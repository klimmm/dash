{
 "cells": [
  {
   "cell_type": "code",
   "execution_count": 7,
   "id": "09971d39-13f5-4398-9c8a-cfe40d3fd049",
   "metadata": {},
   "outputs": [
    {
     "ename": "SyntaxError",
     "evalue": "invalid syntax (1344338588.py, line 23)",
     "output_type": "error",
     "traceback": [
      "\u001b[0;36m  Cell \u001b[0;32mIn[7], line 23\u001b[0;36m\u001b[0m\n\u001b[0;31m    selected_metrics: = ['adjusted_total_premiums', 'direct_premiums', 'net_result']\u001b[0m\n\u001b[0m                      ^\u001b[0m\n\u001b[0;31mSyntaxError\u001b[0m\u001b[0;31m:\u001b[0m invalid syntax\n"
     ]
    }
   ],
   "source": [
    "from typing import List, Tuple, Optional, Dict, OrderedDict, Any, Union, Set\n",
    "\n",
    "calculated_metrics: Dict[str, List[str]] = {\n",
    "    'net_balance': ['ceded_losses', 'ceded_premiums'],\n",
    "    'total_premiums': ['direct_premiums', 'inward_premiums'],\n",
    "    'net_premiums': ['direct_premiums', 'inward_premiums', 'ceded_premiums'],\n",
    "    'total_losses': ['direct_losses', 'inward_losses'],\n",
    "    'net_losses': ['direct_losses', 'inward_losses', 'ceded_losses'],\n",
    "    'gross_result': ['direct_premiums', 'inward_premiums', 'direct_losses', 'inward_losses'],\n",
    "    'net_result': ['direct_premiums', 'inward_premiums', 'direct_losses', 'inward_losses', 'ceded_premiums', 'ceded_losses']\n",
    "}\n",
    "\n",
    "\n",
    "\n",
    "'''for calc_metric, base_deps in calculated_metrics.items():\n",
    "    if calc_metric in selected_metric and calc_metric != selected_metric:\n",
    "        relevant_metrics.update(base_deps)\n",
    "        logger.info(f\"Substring match found in calculated_metrics: {calc_metric} for selected metric: {selected_metric}. Adding base metrics: {base_deps}\")'''\n",
    "\n",
    "\n",
    "calculated_metrics.items()\n",
    "\n",
    "selected_metrics = ['adjusted_total_premiums', 'direct_premiums', 'net_result']\n",
    "\n",
    "def filter_required_metrics(selected_metrics: List[str]):\n",
    "    relevant_metrics = set()\n",
    "    \n",
    "    #for selected_metric in selected_metrics:\n",
    "        \n",
    "        ## Add the selected metric itself\n",
    "        #relevant_metrics.add(selected_metric)\n",
    "        \n",
    "        # If it's a calculated metric, add its base metrics\n",
    "        #if selected_metric in calculated_metrics:\n",
    "        #    relevant_metrics.update(calculated_metrics[selected_metric])\n",
    "        #    logger.info(f\"Adding base metrics for calculated metric: {selected_metric}. Base metrics: {calculated_metrics[selected_metric]}\")\n",
    "        \n",
    "        # Check for substring matches in calculated_metrics\n",
    "    for calc_metric, base_deps in calculated_metrics.items():\n",
    "        if calc_metric in selected_metric: #and calc_metric != selected_metric:\n",
    "            relevant_metrics.update(base_deps)\n",
    "            #logger.info(f\"Substring match found in calculated_metrics: {calc_metric} for selected metric: {selected_metric}. Adding base metrics: {base_deps}\")\n",
    "    \n",
    "    return relevant_metrics\n",
    "\n",
    "filter_required_metricss(selected_metrics)\n"
   ]
  },
  {
   "cell_type": "code",
   "execution_count": null,
   "id": "df8a3dfb-5759-41e1-8482-b68857e959e9",
   "metadata": {},
   "outputs": [],
   "source": []
  }
 ],
 "metadata": {
  "kernelspec": {
   "display_name": "Python 3.8 (cbr_stat)",
   "language": "python",
   "name": "cbr_stat"
  },
  "language_info": {
   "codemirror_mode": {
    "name": "ipython",
    "version": 3
   },
   "file_extension": ".py",
   "mimetype": "text/x-python",
   "name": "python",
   "nbconvert_exporter": "python",
   "pygments_lexer": "ipython3",
   "version": "3.11.9"
  }
 },
 "nbformat": 4,
 "nbformat_minor": 5
}
