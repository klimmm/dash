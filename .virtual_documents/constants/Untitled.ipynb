from enum import Enum
from typing import Dict, List, Set, TypedDict, Optional
from dataclasses import dataclass

class MetricType(Enum):
    VALUE = "value"
    QUANTITY = "quantity"
    AVERAGE_VALUE = "average_value"
    PERCENTAGE = "percentage"
    MARKET_SHARE = "market_share"
    Q_TO_Q_CHANGE = "q_to_q_change"

@dataclass
class MetricDefinition:
    label: str
    type: MetricType
    dependencies: Optional[List[str]] = None
    category: Optional[str] = None  # For grouping metrics (direct, inward, reinsurance)

class MetricsConfig:
    def __init__(self):
        self._base_metrics: Set[str] = {
            'ceded_losses', 'ceded_premiums', 'claims_reported', 'claims_settled',
            'contracts_end', 'direct_losses', 'direct_premiums', 'inward_losses',
            'inward_premiums', 'new_contracts', 'new_sums', 'sums_end', 
            'premiums_interm_total', 'commissions_electronic', 'commissions_nonelec', 
            'premiums_interm_electronic', 'premiums_interm_nonelec', 'commissions_total', 
            'net_balance', 'total_premiums', 'net_premiums', 'total_losses', 
            'net_losses', 'gross_result', 'net_result'
        }

        self._calculated_metrics = {
            'net_balance': ['ceded_losses', 'ceded_premiums'],
            'total_premiums': ['direct_premiums', 'inward_premiums'],
            'net_premiums': ['direct_premiums', 'inward_premiums', 'ceded_premiums'],
            'total_losses': ['direct_losses', 'inward_losses'],
            'net_losses': ['direct_losses', 'inward_losses', 'ceded_losses'],
            'gross_result': ['direct_premiums', 'inward_premiums', 'direct_losses', 'inward_losses'],
            'net_result': ['direct_premiums', 'inward_premiums', 'direct_losses', 'inward_losses', 'ceded_premiums', 'ceded_losses']
        }

        self._calculated_ratios = {
            'average_sum_insured': ['sums_end', 'contracts_end'],
            'average_new_sum_insured': ['new_sums', 'new_contracts'],
            'average_new_premium': ['direct_premiums', 'new_contracts'],
            'average_loss': ['direct_losses', 'claims_settled'],
            'ceded_premiums_ratio': ['ceded_premiums', 'total_premiums'],
            'ceded_losses_ratio': ['ceded_losses', 'total_losses'],
            'ceded_losses_to_ceded_premiums_ratio': ['ceded_losses', 'ceded_premiums'],
            'gross_loss_ratio': ['direct_losses', 'inward_losses', 'direct_premiums', 'inward_premiums'],
            'net_loss_ratio': ['direct_losses', 'inward_losses', 'ceded_losses', 'direct_premiums', 'inward_premiums', 'ceded_premiums'],
            'effect_on_loss_ratio': ['direct_losses', 'inward_losses', 'ceded_losses', 'direct_premiums', 'inward_premiums', 'ceded_premiums'],
            'ceded_ratio_diff': ['ceded_losses', 'direct_losses', 'inward_losses', 'ceded_premiums', 'direct_premiums', 'inward_premiums', 'total_losses', 'total_premiums', 'ceded_losses_ratio', 'ceded_premiums_ratio']
        }

        self._metrics: Dict[str, MetricDefinition] = self._initialize_metrics()

    def _initialize_metrics(self) -> Dict[str, MetricDefinition]:
        metrics = {}
        
        # Initialize all metric categories
        self._add_value_metrics(metrics)
        self._add_quantity_metrics(metrics)
        self._add_average_metrics(metrics)
        self._add_ratio_metrics(metrics)
        self._add_market_share_metrics(metrics)
        self._add_growth_metrics(metrics)
        self._add_intermediate_metrics(metrics)
        
        return metrics

    def _add_value_metrics(self, metrics: Dict[str, MetricDefinition]) -> None:
        value_metrics = {
            'direct_premiums': ('Direct Premiums', 'direct'),
            'direct_losses': ('Direct Losses', 'direct'),
            'inward_premiums': ('Inward Premiums', 'inward'),
            'inward_losses': ('Inward Losses', 'inward'),
            'ceded_premiums': ('Ceded Premiums', 'reinsurance'),
            'ceded_losses': ('Ceded Losses', 'reinsurance'),
            'new_sums': ('New Sums', 'direct'),
            'sums_end': ('Sums End', 'direct'),
            'net_premiums': ('Net Premiums', 'calculated'),
            'net_losses': ('Net Losses', 'calculated'),
            'total_premiums': ('Total Premiums', 'calculated'),
            'total_losses': ('Total Losses', 'calculated')
        }
        
        for key, (label, category) in value_metrics.items():
            dependencies = self._calculated_metrics.get(key, None)
            metrics[key] = MetricDefinition(
                label=label,
                type=MetricType.VALUE,
                dependencies=dependencies,
                category=category
            )

    def _add_quantity_metrics(self, metrics: Dict[str, MetricDefinition]) -> None:
        quantity_metrics = {
            'new_contracts': ('New Contracts', 'direct'),
            'claims_reported': ('Claims Reported', 'direct'),
            'claims_settled': ('Claims Settled', 'direct'),
            'contracts_end': ('Contracts End', 'direct')
        }
        
        for key, (label, category) in quantity_metrics.items():
            metrics[key] = MetricDefinition(
                label=label,
                type=MetricType.QUANTITY,
                category=category
            )

    def _add_average_metrics(self, metrics: Dict[str, MetricDefinition]) -> None:
        average_metrics = {
            'average_sum_insured': ('Average Sum Insured', self._calculated_ratios['average_sum_insured']),
            'average_new_sum_insured': ('Average New Sum Insured', self._calculated_ratios['average_new_sum_insured']),
            'average_new_premium': ('Average New Premium', self._calculated_ratios['average_new_premium']),
            'average_loss': ('Average Loss', self._calculated_ratios['average_loss'])
        }
        
        for key, (label, dependencies) in average_metrics.items():
            metrics[key] = MetricDefinition(
                label=label,
                type=MetricType.AVERAGE_VALUE,
                dependencies=dependencies,
                category='calculated'
            )

    def _add_ratio_metrics(self, metrics: Dict[str, MetricDefinition]) -> None:
        ratio_metrics = {
            'net_loss_ratio': 'Net Loss Ratio',
            'ceded_premiums_ratio': 'Ceded Premiums Ratio',
            'ceded_losses_ratio': 'Ceded Losses Ratio',
            'ceded_losses_to_ceded_premiums_ratio': 'Ceded Losses to Ceded Premiums Ratio',
            'gross_loss_ratio': 'Gross Loss Ratio',
            'effect_on_loss_ratio': 'Effect on Loss Ratio'
        }
        
        for key, label in ratio_metrics.items():
            metrics[key] = MetricDefinition(
                label=label,
                type=MetricType.PERCENTAGE,
                dependencies=self._calculated_ratios.get(key, []),
                category='calculated'
            )

    def _add_market_share_metrics(self, metrics: Dict[str, MetricDefinition]) -> None:
        for prefix in ['direct', 'inward', 'ceded']:
            for metric_type in ['premiums', 'losses']:
                key = f'{prefix}_{metric_type}_market_share'
                metrics[key] = MetricDefinition(
                    label=f'{prefix.title()} {metric_type.title()} Market Share',
                    type=MetricType.MARKET_SHARE,
                    category=prefix
                )

    def _add_growth_metrics(self, metrics: Dict[str, MetricDefinition]) -> None:
        base_metrics = [
            'direct_premiums', 'direct_losses',
            'inward_premiums', 'inward_losses',
            'ceded_premiums', 'ceded_losses',
            'net_loss_ratio', 'average_new_sum_insured',
            'average_loss', 'average_new_premium'
        ]
        
        for metric in base_metrics:
            key = f'{metric}_q_to_q_change'
            base_metric = metrics.get(metric)
            if base_metric:
                metrics[key] = MetricDefinition(
                    label=f'{base_metric.label} Growth',
                    type=MetricType.Q_TO_Q_CHANGE,
                    dependencies=[metric],
                    category=base_metric.category
                )

    def _add_intermediate_metrics(self, metrics: Dict[str, MetricDefinition]) -> None:
        intermediate_metrics = {
            'premiums_interm_total': 'Premiums Intermediate Total',
            'commissions_electronic': 'Electronic Commissions',
            'commissions_nonelec': 'Non-Electronic Commissions',
            'premiums_interm_electronic': 'Electronic Intermediate Premiums',
            'premiums_interm_nonelec': 'Non-Electronic Intermediate Premiums',
            'commissions_total': 'Total Commissions'
        }
        
        for key, label in intermediate_metrics.items():
            metrics[key] = MetricDefinition(
                label=label,
                type=MetricType.VALUE,
                category='intermediate'
            )

    def get_metrics_by_category(self, category: str) -> Dict[str, MetricDefinition]:
        return {k: v for k, v in self._metrics.items() if v.category == category}

    def get_metric_definition(self, metric_key: str) -> MetricDefinition:
        return self._metrics.get(metric_key)

    def get_metric_dependencies(self, metric_key: str) -> List[str]:
        metric_def = self._metrics.get(metric_key)
        return metric_def.dependencies if metric_def and metric_def.dependencies else []

    def is_base_metric(self, metric_key: str) -> bool:
        return metric_key in self._base_metrics

    @property
    def all_metrics(self) -> Dict[str, MetricDefinition]:
        return self._metrics.copy()

    @property
    def direct_metrics(self) -> Dict[str, MetricDefinition]:
        return self.get_metrics_by_category('direct')

    @property
    def inward_metrics(self) -> Dict[str, MetricDefinition]:
        return self.get_metrics_by_category('inward')

    @property
    def reinsurance_metrics(self) -> Dict[str, MetricDefinition]:
        return self.get_metrics_by_category('reinsurance')


from typing import Dict, Any
import pandas as pd

# First, let's instantiate our metrics configuration
config = MetricsConfig()

def example_basic_usage():
    """Basic usage examples of the metrics configuration"""
    # Get a specific metric definition
    direct_premiums = config.get_metric_definition('direct_premiums')
    print("\n1. Basic Metric Information:")
    print(f"Metric: {direct_premiums.label}")
    print(f"Type: {direct_premiums.type}")
    print(f"Category: {direct_premiums.category}")

    # Get dependencies for a calculated metric
    net_result_deps = config.get_metric_dependencies('net_result')
    print("\n2. Dependencies for Net Result:")
    print(f"Dependencies: {net_result_deps}")

    # Get all metrics of a specific category
    direct_metrics = config.direct_metrics
    print("\n3. Direct Insurance Metrics:")
    for key, metric in direct_metrics.items():
        print(f"- {key}: {metric.label}")

def example_metric_validation(data: Dict[str, float]):
    """Example of validating data against metric dependencies"""
    def check_dependencies(metric_key: str) -> bool:
        dependencies = config.get_metric_dependencies(metric_key)
        return all(dep in data for dep in dependencies)

    # Example calculation request
    metric_to_calculate = 'net_loss_ratio'
    
    print(f"\n4. Validating dependencies for {metric_to_calculate}:")
    if check_dependencies(metric_to_calculate):
        print("All required dependencies are present")
    else:
        missing = [dep for dep in config.get_metric_dependencies(metric_to_calculate) 
                  if dep not in data]
        print(f"Missing dependencies: {missing}")

def example_metric_calculation():
    """Example of calculating various metrics"""
    # Sample data
    data = {
        'direct_premiums': 1000000,
        'direct_losses': 750000,
        'inward_premiums': 200000,
        'inward_losses': 150000,
        'ceded_premiums': 300000,
        'ceded_losses': 200000,
    }

    print("\n5. Metric Calculations:")
    
    # Calculate total premiums
    if check_dependencies('total_premiums', data):
        total_premiums = data['direct_premiums'] + data['inward_premiums']
        print(f"Total Premiums: {total_premiums}")

    # Calculate net loss ratio
    if check_dependencies('net_loss_ratio', data):
        net_losses = (data['direct_losses'] + data['inward_losses'] - data['ceded_losses'])
        net_premiums = (data['direct_premiums'] + data['inward_premiums'] - data['ceded_premiums'])
        net_loss_ratio = (net_losses / net_premiums * 100) if net_premiums else 0
        print(f"Net Loss Ratio: {net_loss_ratio:.2f}%")

def example_growth_metrics():
    """Example of working with growth metrics"""
    # Sample quarterly data
    quarterly_data = pd.DataFrame({
        'quarter': ['2023Q1', '2023Q2', '2023Q3', '2023Q4'],
        'direct_premiums': [1000000, 1100000, 1150000, 1200000],
        'direct_losses': [750000, 800000, 825000, 850000]
    })

    print("\n6. Growth Metrics:")
    
    # Calculate quarter-to-quarter growth
    for metric in ['direct_premiums', 'direct_losses']:
        growth_metric = f'{metric}_q_to_q_change'
        if config.get_metric_definition(growth_metric):
            quarterly_data[growth_metric] = quarterly_data[metric].pct_change() * 100
            print(f"\n{config.get_metric_definition(growth_metric).label}:")
            print(quarterly_data[['quarter', growth_metric]].dropna())

def example_market_analysis():
    """Example of analyzing market share metrics"""
    # Sample market data
    market_data = {
        'company_direct_premiums': 1000000,
        'market_total_direct_premiums': 10000000,
        'company_direct_losses': 750000,
        'market_total_direct_losses': 7500000
    }

    print("\n7. Market Share Analysis:")
    
    # Calculate market shares
    for metric_type in ['premiums', 'losses']:
        market_share_key = f'direct_{metric_type}_market_share'
        if config.get_metric_definition(market_share_key):
            company_value = market_data[f'company_direct_{metric_type}']
            market_value = market_data[f'market_total_direct_{metric_type}']
            market_share = (company_value / market_value * 100) if market_value else 0
            print(f"Direct {metric_type.title()} Market Share: {market_share:.2f}%")

def check_dependencies(metric_key: str, data: Dict[str, Any]) -> bool:
    """Helper function to check if all dependencies for a metric are present in the data"""
    dependencies = config.get_metric_dependencies(metric_key)
    return all(dep in data for dep in dependencies)

# Run all examples
if __name__ == "__main__":
    print("Insurance Metrics System Usage Examples")
    print("======================================")
    
    example_basic_usage()
    
    # Example data for validation
    sample_data = {
        'direct_premiums': 1000000,
        'direct_losses': 750000,
        # Missing some dependencies intentionally
    }
    example_metric_validation(sample_data)
    
    example_metric_calculation()
    example_growth_metrics()
    example_market_analysis()


from typing import Dict, List, Set

class MetricsAccessor:
    def __init__(self):
        self.config = MetricsConfig()

    def get_METRICS(self) -> Dict[str, Dict[str, str]]:
        """Get equivalent of original METRICS dictionary"""
        return {
            key: {
                'label': metric.label,
                'type': metric.type.value  # Convert enum to string
            }
            for key, metric in self.config.all_metrics.items()
        }

    def get_BASE_METRICS(self) -> Set[str]:
        """Get equivalent of original BASE_METRICS set"""
        return self.config._base_metrics

    def get_CALCULATED_METRICS(self) -> Dict[str, List[str]]:
        """Get equivalent of original CALCULATED_METRICS dictionary"""
        return self.config._calculated_metrics

    def get_CALCULATED_RATIOS(self) -> Dict[str, List[str]]:
        """Get equivalent of original CALCULATED_RATIOS dictionary"""
        return self.config._calculated_ratios

    def get_METRICS_DIRECT(self) -> Dict[str, Dict[str, str]]:
        """Get equivalent of original METRICS_DIRECT dictionary"""
        direct_metrics = self.config.direct_metrics
        return {
            key: {
                'label': metric.label,
                'type': metric.type.value
            }
            for key, metric in direct_metrics.items()
        }

    def get_METRICS_INWARD(self) -> Dict[str, Dict[str, str]]:
        """Get equivalent of original METRICS_INWARD dictionary"""
        inward_metrics = self.config.inward_metrics
        return {
            key: {
                'label': metric.label,
                'type': metric.type.value
            }
            for key, metric in inward_metrics.items()
        }

    def get_REINSURANCE_METRICS(self) -> Dict[str, Dict[str, str]]:
        """Get equivalent of original REINSURANCE_METRICS dictionary"""
        reinsurance_metrics = self.config.reinsurance_metrics
        return {
            key: {
                'label': metric.label,
                'type': metric.type.value
            }
            for key, metric in reinsurance_metrics.items()
        }

# Usage example
def example_usage():
    accessor = MetricsAccessor()
    
    # Get all metrics
    metrics = accessor.get_METRICS()
    print("\n1. All Metrics Example:")
    print(list(metrics.keys())[:100])  # Show first 5 metrics
    
    # Get base metrics
    base_metrics = accessor.get_BASE_METRICS()
    print("\n2. Base Metrics Example:")
    print(list(base_metrics)[:5])  # Show first 5 base metrics
    
    # Get calculated metrics
    calc_metrics = accessor.get_CALCULATED_METRICS()
    print("\n3. Calculated Metrics Example:")
    print(list(calc_metrics.keys()))
    
    # Get calculated ratios
    calc_ratios = accessor.get_CALCULATED_RATIOS()
    print("\n4. Calculated Ratios Example:")
    print(list(calc_ratios.keys()))
    
    # Get direct metrics
    direct_metrics = accessor.get_METRICS_DIRECT()
    print("\n5. Direct Metrics Example:")
    print(list(direct_metrics.keys()))
    
    # Get inward metrics
    inward_metrics = accessor.get_METRICS_INWARD()
    print("\n6. Inward Metrics Example:")
    print(list(inward_metrics.keys()))
    
    # Get reinsurance metrics
    reinsurance_metrics = accessor.get_REINSURANCE_METRICS()
    print("\n7. Reinsurance Metrics Example:")
    print(list(reinsurance_metrics.keys()))

# Simple usage
if __name__ == "__main__":
    # Direct usage of individual getters
    accessor = MetricsAccessor()
    
    # Get specific dictionaries
    METRICS = accessor.get_METRICS()
    BASE_METRICS = accessor.get_BASE_METRICS()
    CALCULATED_METRICS = accessor.get_CALCULATED_METRICS()
    CALCULATED_RATIOS = accessor.get_CALCULATED_RATIOS()
    METRICS_DIRECT = accessor.get_METRICS_DIRECT()
    METRICS_INWARD = accessor.get_METRICS_INWARD()
    REINSURANCE_METRICS = accessor.get_REINSURANCE_METRICS()
    
    # Using them just like the original dictionaries
    print("Example metric from METRICS:", METRICS['direct_premiums'])
    print("Example base metric:", list(BASE_METRICS)[0])
    print("Example calculated metric dependencies:", CALCULATED_METRICS['net_result'])
    print("Example ratio dependencies:", CALCULATED_RATIOS['net_loss_ratio'])
    print("Example direct metric:", METRICS_DIRECT['direct_premiums'])
    print("Example inward metric:", METRICS_INWARD['inward_premiums'])
    print("Example reinsurance metric:", REINSURANCE_METRICS['ceded_premiums'])

# Or use the example function to see all structures
example_usage()


def analyze_ratio_dependencies():
    """
    Analyzes CALCULATED_RATIOS and groups them based on whether they depend only on 
    BASE_METRICS or require CALCULATED_METRICS as well
    """
    # Original CALCULATED_RATIOS
    calculated_ratios = {
        'average_sum_insured': ['sums_end', 'contracts_end'],
        'average_new_sum_insured': ['new_sums', 'new_contracts'],
        'average_new_premium': ['direct_premiums', 'new_contracts'],
        'average_loss': ['direct_losses', 'claims_settled'],
        'ceded_premiums_ratio': ['ceded_premiums', 'total_premiums'],
        'ceded_losses_ratio': ['ceded_losses', 'total_losses'],
        'ceded_losses_to_ceded_premiums_ratio': ['ceded_losses', 'ceded_premiums'],
        'gross_loss_ratio': ['direct_losses', 'inward_losses', 'direct_premiums', 'inward_premiums'],
        'net_loss_ratio': ['direct_losses', 'inward_losses', 'ceded_losses', 'direct_premiums', 'inward_premiums', 'ceded_premiums'],
        'effect_on_loss_ratio': ['direct_losses', 'inward_losses', 'ceded_losses', 'direct_premiums', 'inward_premiums', 'ceded_premiums'],
        'ceded_ratio_diff': ['ceded_losses', 'direct_losses', 'inward_losses', 'ceded_premiums', 'direct_premiums', 'inward_premiums', 'total_losses', 'total_premiums', 'ceded_losses_ratio', 'ceded_premiums_ratio']
    }

    # BASE_METRICS for reference
    base_metrics = {
        'ceded_losses', 'ceded_premiums', 'claims_reported', 'claims_settled',
        'contracts_end', 'direct_losses', 'direct_premiums', 'inward_losses',
        'inward_premiums', 'new_contracts', 'new_sums', 'sums_end', 
        'premiums_interm_total', 'commissions_electronic', 'commissions_nonelec', 
        'premiums_interm_electronic', 'premiums_interm_nonelec', 'commissions_total'
    }

    # CALCULATED_METRICS for reference
    calculated_metrics = {
        'total_premiums': ['direct_premiums', 'inward_premiums'],
        'total_losses': ['direct_losses', 'inward_losses']
    }

    # Group ratios by dependency type
    ratios_base_only = {}
    ratios_with_calculated = {}
    ratios_with_other_ratios = {}

    for ratio, deps in calculated_ratios.items():
        # Check if any dependency is a calculated metric or another ratio
        has_calc_deps = any(dep in calculated_metrics for dep in deps)
        has_ratio_deps = any(dep in calculated_ratios for dep in deps)
        
        if has_ratio_deps:
            ratios_with_other_ratios[ratio] = {
                'dependencies': deps,
                'base_deps': [d for d in deps if d in base_metrics],
                'calc_deps': [d for d in deps if d in calculated_metrics],
                'ratio_deps': [d for d in deps if d in calculated_ratios]
            }
        elif has_calc_deps:
            ratios_with_calculated[ratio] = {
                'dependencies': deps,
                'base_deps': [d for d in deps if d in base_metrics],
                'calc_deps': [d for d in deps if d in calculated_metrics]
            }
        else:
            ratios_base_only[ratio] = {
                'dependencies': deps,
                'calculation_type': 'direct'
            }

    return {
        'base_only': ratios_base_only,
        'with_calculated': ratios_with_calculated,
        'with_other_ratios': ratios_with_other_ratios
    }

def print_ratio_analysis():
    analysis = analyze_ratio_dependencies()
    
    print("1. Ratios Depending Only on Base Metrics:")
    print("----------------------------------------")
    for ratio, info in analysis['base_only'].items():
        print(f"\n{ratio}:")
        print(f"Dependencies: {info['dependencies']}")
    
    print("\n2. Ratios Depending on Calculated Metrics:")
    print("-----------------------------------------")
    for ratio, info in analysis['with_calculated'].items():
        print(f"\n{ratio}:")
        print(f"Base dependencies: {info['base_deps']}")
        print(f"Calculated dependencies: {info['calc_deps']}")
    
    print("\n3. Ratios Depending on Other Ratios:")
    print("------------------------------------")
    for ratio, info in analysis['with_other_ratios'].items():
        print(f"\n{ratio}:")
        print(f"Base dependencies: {info['base_deps']}")
        print(f"Calculated dependencies: {info['calc_deps']}")
        print(f"Ratio dependencies: {info['ratio_deps']}")

if __name__ == "__main__":
    print_ratio_analysis()
    
"""
Calculation Order Based on Dependencies:

1. Level 1 - Base Only Ratios:
   - Can be calculated first as they only depend on BASE_METRICS
   - Examples: average_sum_insured, average_new_sum_insured, average_new_premium, 
     average_loss, ceded_losses_to_ceded_premiums_ratio, gross_loss_ratio

2. Level 2 - Ratios with Calculated Metrics:
   - Must wait for CALCULATED_METRICS to be computed
   - Examples: ceded_premiums_ratio, ceded_losses_ratio, net_loss_ratio, 
     effect_on_loss_ratio

3. Level 3 - Ratios with Other Ratios:
   - Must wait for other ratios to be computed first
   - Example: ceded_ratio_diff

Calculation Flow:
BASE_METRICS → Level 1 Ratios → CALCULATED_METRICS → Level 2 Ratios → Level 3 Ratios
"""


from enum import Enum
from typing import Dict, List, Set, Optional, Union, Callable, Any
from dataclasses import dataclass

class MetricType(Enum):
    VALUE = "value"
    QUANTITY = "quantity"
    AVERAGE_VALUE = "average_value"
    PERCENTAGE = "percentage"
    MARKET_SHARE = "market_share"
    Q_TO_Q_CHANGE = "q_to_q_change"

class MetricCategory(Enum):
    DIRECT = "direct"
    INWARD = "inward"
    REINSURANCE = "reinsurance"
    ALL = "all"

@dataclass
class Metric:
    label: str
    type: MetricType
    categories: List[MetricCategory]

class MetricsRegistry:
    def __init__(self):
        self._metrics: Dict[str, Metric] = self._initialize_metrics()
        self._cached_filtered_metrics: Dict[str, Dict[str, Metric]] = {}

    def _initialize_metrics(self) -> Dict[str, Metric]:
        metrics = {}
        
        # Value Metrics
        self._add_value_metrics(metrics)
        # Average Value Metrics
        self._add_average_value_metrics(metrics)
        # Ratio/Percentage Metrics
        self._add_ratio_metrics(metrics)
        # Quantity Metrics
        self._add_quantity_metrics(metrics)
        # Market Share Metrics
        self._add_market_share_metrics(metrics)
        # Q to Q Change Metrics
        self._add_q_to_q_metrics(metrics)
        
        return metrics

    def _add_value_metrics(self, metrics: Dict[str, Metric]) -> None:
        value_metrics = {
            'direct_premiums': (['direct'], 'Direct Premiums'),
            'direct_losses': (['direct'], 'Direct Losses'),
            'inward_premiums': (['inward', 'reinsurance'], 'Inward Premiums'),
            'inward_losses': (['inward', 'reinsurance'], 'Inward Losses'),
            'total_premiums': (['all'], 'Total Premiums'),
            'total_losses': (['all'], 'Total Losses'),
            'ceded_premiums': (['direct', 'inward', 'reinsurance'], 'Ceded Premiums'),
            'ceded_losses': (['direct', 'inward', 'reinsurance'], 'Ceded Losses'),
            'net_premiums': (['inward'], 'Net Premiums'),
            'net_losses': (['inward'], 'Net Losses'),
            'new_sums': (['direct'], 'New Sums'),
            'sums_end': (['direct', 'inward'], 'Sums End'),
            # Intermediate metrics
            'premiums_interm_total': (['direct'], 'Premiums Intermediate Total'),
            'commissions_electronic': (['direct'], 'Electronic Commissions'),
            'commissions_nonelec': (['direct'], 'Non-Electronic Commissions'),
            'premiums_interm_electronic': (['direct'], 'Electronic Intermediate Premiums'),
            'premiums_interm_nonelec': (['direct'], 'Non-Electronic Intermediate Premiums'),
            'commissions_total': (['direct'], 'Total Commissions'),
        }
        
        for key, (categories, label) in value_metrics.items():
            metrics[key] = Metric(
                label=label,
                type=MetricType.VALUE,
                categories=[MetricCategory(cat) for cat in categories]
            )

    def _add_average_value_metrics(self, metrics: Dict[str, Metric]) -> None:
        avg_metrics = {
            'average_new_sum_insured': (['direct'], 'Average New Sum Insured'),
            'average_new_premium': (['direct'], 'Average New Premium'),
            'average_loss': (['direct'], 'Average Loss'),
            'average_sum_insured': (['direct'], 'Average Sum Insured'),
        }
        
        for key, (categories, label) in avg_metrics.items():
            metrics[key] = Metric(
                label=label,
                type=MetricType.AVERAGE_VALUE,
                categories=[MetricCategory(cat) for cat in categories]
            )

    def _add_ratio_metrics(self, metrics: Dict[str, Metric]) -> None:
        ratio_metrics = {
            'net_loss_ratio': (['inward'], 'Net Loss Ratio'),
            'ceded_premiums_ratio': (['direct', 'inward'], 'Ceded Premiums Ratio'),
            'ceded_losses_ratio': (['direct', 'inward'], 'Ceded Losses Ratio'),
            'ceded_losses_to_ceded_premiums_ratio': (['direct', 'inward'], 'Ceded Losses to Ceded Premiums Ratio'),
        }
        
        for key, (categories, label) in ratio_metrics.items():
            metrics[key] = Metric(
                label=label,
                type=MetricType.PERCENTAGE,
                categories=[MetricCategory(cat) for cat in categories]
            )

    def get_metrics_by_type(self, metric_type: MetricType) -> Dict[str, Metric]:
        """Get all metrics of a specific type."""
        cache_key = f"type_{metric_type.value}"
        if cache_key not in self._cached_filtered_metrics:
            self._cached_filtered_metrics[cache_key] = {
                k: v for k, v in self._metrics.items() 
                if v.type == metric_type
            }
        return self._cached_filtered_metrics[cache_key]

    def get_metrics_by_category(self, category: MetricCategory) -> Dict[str, Metric]:
        """Get all metrics for a specific category."""
        cache_key = f"category_{category.value}"
        if cache_key not in self._cached_filtered_metrics:
            self._cached_filtered_metrics[cache_key] = {
                k: v for k, v in self._metrics.items() 
                if category in v.categories
            }
        return self._cached_filtered_metrics[cache_key]

    def create_dropdown_options(
        self, 
        metrics: Dict[str, Metric],
        translation_func: Optional[Callable] = None
    ) -> List[Dict[str, Any]]:
        """Create dropdown options from metrics."""
        if translation_func:
            return [
                {'label': translation_func(metric.label), 'value': key}
                for key, metric in metrics.items()
            ]
        return [
            {'label': metric.label, 'value': key}
            for key, metric in metrics.items()
        ]

class MetricsManager:
    def __init__(self, translation_func: Optional[Callable] = None):
        self.registry = MetricsRegistry()
        self.translation_func = translation_func
        self._cached_options = {}

    def get_dropdown_options(
        self,
        metric_type: Optional[MetricType] = None,
        category: Optional[MetricCategory] = None
    ) -> List[Dict[str, Any]]:
        """Get dropdown options filtered by type and/or category."""
        cache_key = f"{metric_type.value if metric_type else 'all'}_{category.value if category else 'all'}"
        
        if cache_key not in self._cached_options:
            metrics = self.registry._metrics
            
            if metric_type:
                metrics = {k: v for k, v in metrics.items() if v.type == metric_type}
            if category:
                metrics = {k: v for k, v in metrics.items() if category in v.categories}
                
            self._cached_options[cache_key] = self.registry.create_dropdown_options(
                metrics, self.translation_func
            )
            
        return self._cached_options[cache_key]

# Usage example
def example_usage():
    def dummy_translate(text: str) -> str:
        return text  # Replace with actual translation function
    
    manager = MetricsManager(translation_func=dummy_translate)
    
    # Get value metrics for direct insurance
    value_direct_options = manager.get_dropdown_options(
        metric_type=MetricType.VALUE,
        category=MetricCategory.DIRECT
    )
    
    # Get all reinsurance metrics
    reinsurance_options = manager.get_dropdown_options(
        category=MetricCategory.REINSURANCE
    )
    
    # Get all ratio metrics
    ratio_options = manager.get_dropdown_options(
        metric_type=MetricType.PERCENTAGE
    )
    
    return {
        'value_direct_options': value_direct_options,
        'reinsurance_options': reinsurance_options,
        'ratio_options': ratio_options
    }

if __name__ == "__main__":
    print(example_usage())



